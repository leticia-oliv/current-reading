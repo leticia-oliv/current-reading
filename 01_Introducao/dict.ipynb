{
 "cells": [
  {
   "cell_type": "markdown",
   "metadata": {},
   "source": [
    "## Encontrando conectores chaves"
   ]
  },
  {
   "cell_type": "code",
   "execution_count": null,
   "metadata": {},
   "outputs": [],
   "source": [
    "# dicionário com id e nomes\n",
    "users = {\n",
    "    0: {\"id\": 0, \"name\": \"Letícia\"},\n",
    "    1: {\"id\": 1, \"name\": \"Rafaella\"},\n",
    "    2: {\"id\": 2, \"name\": \"Gabriel\"},\n",
    "    3: {\"id\": 3, \"name\": \"Beatriz\"},\n",
    "    4: {\"id\": 4, \"name\": \"Eduarda\"},\n",
    "    5: {\"id\": 5, \"name\": \"Felipe\"},\n",
    "    6: {\"id\": 6, \"name\": \"Ana\"},\n",
    "    7: {\"id\": 7, \"name\": \"Henrique\"},\n",
    "    8: {\"id\": 8, \"name\": \"Isabela\"},\n",
    "    9: {\"id\": 9, \"name\": \"João\"},\n",
    "}"
   ]
  },
  {
   "cell_type": "code",
   "execution_count": null,
   "metadata": {},
   "outputs": [],
   "source": [
    "# dados de pares de amizades\n",
    "\n",
    "friendship_pairs = [(0,1), (0,2), (1,3), (2,3), (3,4), (4,5), (5,6), (5,7), (6,8), (7,8), (8,9)]"
   ]
  },
  {
   "cell_type": "markdown",
   "metadata": {},
   "source": [
    "- A tupla (0,1) indica que o cientista de dados com o `id 0` (Letícia) e com o `id 1` (Rafaella) são amigos. A figura 1 representa a rede."
   ]
  },
  {
   "cell_type": "code",
   "execution_count": null,
   "metadata": {},
   "outputs": [],
   "source": [
    "# conferir todos os pares para criar o dicionário.\n",
    "\n",
    "# inicializar o dict como uma lista vazia para cada id de usuário:\n",
    "friendships = {user[\"id\"]: [] for user in users}\n",
    "\n",
    "# em seguida, executa um loop pelos pares de amigos para preenchê-la:\n",
    "for i, j in friendship_pairs:\n",
    "    friendships[i].append(j) # adiciona j como amigo do usuário i\n",
    "    friendships[j].append(i) # adiciona i como amigo do usuário j"
   ]
  },
  {
   "cell_type": "markdown",
   "metadata": {},
   "source": [
    "## Primeiras perguntas"
   ]
  },
  {
   "cell_type": "code",
   "execution_count": null,
   "metadata": {},
   "outputs": [],
   "source": [
    "# qual é o número médio de conexões?\n",
    "\n",
    "def number_of_friends(user):\n",
    "    '''Quantos amigos tem o _user_?'''\n",
    "    user_id = user[\"id\"]\n",
    "    friends_ids = friendships[user_id]\n",
    "    return len(friends_ids)\n",
    "total_connections = sum(number_of_friends(user for user in users)) # saída: 24\n",
    "\n",
    "# agora é dividir pelo número de usuários:\n",
    "\n",
    "num_users =len(users) # tamanho da lista de usuários\n",
    "avg_conections = total_connections / num_users # saída: 24 / 10 == 2.4"
   ]
  }
 ],
 "metadata": {
  "language_info": {
   "name": "python"
  }
 },
 "nbformat": 4,
 "nbformat_minor": 2
}
